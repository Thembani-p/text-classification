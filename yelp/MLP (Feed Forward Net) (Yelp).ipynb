{
 "cells": [
  {
   "cell_type": "code",
   "execution_count": 1,
   "metadata": {
    "collapsed": false
   },
   "outputs": [],
   "source": [
    "from __future__ import print_function\n",
    "import numpy as np\n",
    "np.random.seed(1337)  # for reproducibility\n",
    "\n",
    "import os\n",
    "os.environ['KERAS_BACKEND']='tensorflow' # set backend"
   ]
  },
  {
   "cell_type": "code",
   "execution_count": 2,
   "metadata": {
    "collapsed": false
   },
   "outputs": [
    {
     "name": "stderr",
     "output_type": "stream",
     "text": [
      "Using TensorFlow backend.\n"
     ]
    }
   ],
   "source": [
    "from keras.datasets import reuters\n",
    "from keras.models import Sequential\n",
    "from keras.layers import Dense, Dropout, Activation\n",
    "from keras.utils import np_utils\n",
    "from keras.preprocessing.text import Tokenizer"
   ]
  },
  {
   "cell_type": "code",
   "execution_count": 3,
   "metadata": {
    "collapsed": false
   },
   "outputs": [],
   "source": [
    "# look into preprocessor.py file for details\n",
    "from preprocessor import DocuemntTermMatrix, accuracy, indicator_to_matrix"
   ]
  },
  {
   "cell_type": "code",
   "execution_count": 4,
   "metadata": {
    "collapsed": false
   },
   "outputs": [],
   "source": [
    "yelp_data = DocuemntTermMatrix(\"yelp_academic_dataset_review.json\", \"text\", \"stars\", 500)"
   ]
  },
  {
   "cell_type": "markdown",
   "metadata": {},
   "source": [
    "# MLP (Feed Forward Network) \n",
    "\n",
    "### specification\n",
    "- 512 Hidden Layer \n",
    "- 50% drop out\n",
    "- Rectified Linear Unit activation\n",
    "- adam optimiser \n",
    "\n",
    "### model summary \n",
    "____________________________________________________________________________________________________\n",
    "Layer (type)                       Output Shape        Param #     Connected to                     \n",
    "====================================================================================================\n",
    "dense_2 (Dense)                    (None, 512)         493056      dense_input_2[0][0]              \n",
    "____________________________________________________________________________________________________\n",
    "activation_2 (Activation)          (None, 512)         0           dense_2[0][0]                    \n",
    "____________________________________________________________________________________________________\n",
    "dropout_2 (Dropout)                (None, 512)         0           activation_2[0][0]               \n",
    "____________________________________________________________________________________________________\n",
    "dense_3 (Dense)                    (None, 5)           2565        dropout_2[0][0]                  \n",
    "____________________________________________________________________________________________________\n",
    "activation_3 (Activation)          (None, 5)           0           dense_3[0][0]                    \n",
    "====================================================================================================\n",
    "Total params: 495621\n",
    "____________________________________________________________________________________________________"
   ]
  },
  {
   "cell_type": "code",
   "execution_count": 5,
   "metadata": {
    "collapsed": false
   },
   "outputs": [],
   "source": [
    "vocab_size = len(yelp_data.docs_vocab)"
   ]
  },
  {
   "cell_type": "code",
   "execution_count": 6,
   "metadata": {
    "collapsed": false
   },
   "outputs": [],
   "source": [
    "nb_classes = len(yelp_data.docs_label_index)"
   ]
  },
  {
   "cell_type": "code",
   "execution_count": 10,
   "metadata": {
    "collapsed": false
   },
   "outputs": [
    {
     "name": "stdout",
     "output_type": "stream",
     "text": [
      "Building model...\n"
     ]
    }
   ],
   "source": [
    "print('Building model...')\n",
    "model = Sequential()\n",
    "model.add(Dense(512, input_shape=(vocab_size,)))\n",
    "model.add(Activation('relu'))\n",
    "model.add(Dropout(0.5))\n",
    "model.add(Dense(nb_classes))\n",
    "model.add(Activation('softmax'))\n",
    "\n",
    "model.compile(loss='categorical_crossentropy',\n",
    "              optimizer='adam',\n",
    "              metrics=['accuracy'])\n",
    "\n"
   ]
  },
  {
   "cell_type": "code",
   "execution_count": 11,
   "metadata": {
    "collapsed": false,
    "scrolled": true
   },
   "outputs": [
    {
     "name": "stdout",
     "output_type": "stream",
     "text": [
      "____________________________________________________________________________________________________\n",
      "Layer (type)                       Output Shape        Param #     Connected to                     \n",
      "====================================================================================================\n",
      "dense_1 (Dense)                    (None, 512)         5032448     dense_input_1[0][0]              \n",
      "____________________________________________________________________________________________________\n",
      "activation_1 (Activation)          (None, 512)         0           dense_1[0][0]                    \n",
      "____________________________________________________________________________________________________\n",
      "dropout_1 (Dropout)                (None, 512)         0           activation_1[0][0]               \n",
      "____________________________________________________________________________________________________\n",
      "dense_2 (Dense)                    (None, 5)           2565        dropout_1[0][0]                  \n",
      "____________________________________________________________________________________________________\n",
      "activation_2 (Activation)          (None, 5)           0           dense_2[0][0]                    \n",
      "====================================================================================================\n",
      "Total params: 5035013\n",
      "____________________________________________________________________________________________________\n"
     ]
    }
   ],
   "source": [
    "model.summary()"
   ]
  },
  {
   "cell_type": "code",
   "execution_count": 12,
   "metadata": {
    "collapsed": true
   },
   "outputs": [],
   "source": [
    "#from preprocessor import Dataset, pad_vec_sequences, pad_sent_sequences\n",
    "from sklearn import preprocessing\n",
    "from sklearn import cross_validation"
   ]
  },
  {
   "cell_type": "code",
   "execution_count": 13,
   "metadata": {
    "collapsed": true
   },
   "outputs": [],
   "source": [
    "# data split\n",
    "x_train, x_test, y_train, y_test = cross_validation.train_test_split(yelp_data.X_docs,yelp_data.Y_docs,test_size=0.2)\n",
    "\n",
    "# create appropirate matrix (hot encoded) response\n",
    "y_train, y_test = [indicator_to_matrix(x,yelp_data.docs_label_index)  for x in (y_train, y_test)]"
   ]
  },
  {
   "cell_type": "code",
   "execution_count": 14,
   "metadata": {
    "collapsed": false
   },
   "outputs": [
    {
     "name": "stdout",
     "output_type": "stream",
     "text": [
      "Train on 360 samples, validate on 40 samples\n",
      "Epoch 1/5\n",
      "360/360 [==============================] - 3s - loss: 1.7164 - acc: 0.2306 - val_loss: 1.6566 - val_acc: 0.3500\n",
      "Epoch 2/5\n",
      "360/360 [==============================] - 3s - loss: 0.9894 - acc: 0.8333 - val_loss: 1.5022 - val_acc: 0.2750\n",
      "Epoch 3/5\n",
      "360/360 [==============================] - 3s - loss: 0.6031 - acc: 0.9583 - val_loss: 1.5155 - val_acc: 0.4250\n",
      "Epoch 4/5\n",
      "360/360 [==============================] - 3s - loss: 0.3514 - acc: 0.9889 - val_loss: 1.5120 - val_acc: 0.3750\n",
      "Epoch 5/5\n",
      "360/360 [==============================] - 3s - loss: 0.2221 - acc: 0.9917 - val_loss: 1.5277 - val_acc: 0.3500\n"
     ]
    }
   ],
   "source": [
    "batch_size = 32\n",
    "nb_epoch = 5\n",
    "\n",
    "history = model.fit(x_train, y_train,\n",
    "                    nb_epoch=nb_epoch, batch_size=batch_size,\n",
    "                    validation_split=0.1)\n",
    "# do not set verbose = 1"
   ]
  },
  {
   "cell_type": "code",
   "execution_count": 16,
   "metadata": {
    "collapsed": false,
    "scrolled": true
   },
   "outputs": [
    {
     "name": "stdout",
     "output_type": "stream",
     "text": [
      "100/100 [==============================] - 0s     \n",
      "Training score: 1.47659727097\n",
      "Test accuracy: 0.39\n"
     ]
    }
   ],
   "source": [
    "score = model.evaluate(x_test, y_test,\n",
    "                       batch_size=batch_size, verbose=1)\n",
    "print('Training score:', score[0])\n",
    "print('Test accuracy:', score[1])"
   ]
  },
  {
   "cell_type": "code",
   "execution_count": null,
   "metadata": {
    "collapsed": true
   },
   "outputs": [],
   "source": [
    "model.save('yelp_mlp_hidden_epocs.h5')"
   ]
  },
  {
   "cell_type": "code",
   "execution_count": null,
   "metadata": {
    "collapsed": true
   },
   "outputs": [],
   "source": [
    "from keras.models import load_model\n",
    "current_model = load_model('yelp_mlp_hidden_epocs.h5')"
   ]
  }
 ],
 "metadata": {
  "celltoolbar": "Raw Cell Format",
  "kernelspec": {
   "display_name": "Python 2",
   "language": "python",
   "name": "python2"
  },
  "language_info": {
   "codemirror_mode": {
    "name": "ipython",
    "version": 2
   },
   "file_extension": ".py",
   "mimetype": "text/x-python",
   "name": "python",
   "nbconvert_exporter": "python",
   "pygments_lexer": "ipython2",
   "version": "2.7.6"
  }
 },
 "nbformat": 4,
 "nbformat_minor": 0
}

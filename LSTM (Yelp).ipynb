{
 "cells": [
  {
   "cell_type": "code",
   "execution_count": 1,
   "metadata": {
    "collapsed": true
   },
   "outputs": [],
   "source": [
    "#from preprocessor import Dataset, pad_vec_sequences, pad_sent_sequences\n",
    "from sklearn import preprocessing\n",
    "from sklearn import cross_validation\n",
    "\n",
    "import os\n",
    "os.environ['KERAS_BACKEND']='tensorflow' # set backend"
   ]
  },
  {
   "cell_type": "code",
   "execution_count": 2,
   "metadata": {
    "collapsed": false
   },
   "outputs": [
    {
     "name": "stderr",
     "output_type": "stream",
     "text": [
      "Using TensorFlow backend.\n"
     ]
    }
   ],
   "source": [
    "from keras.preprocessing import sequence\n",
    "from keras.models import Model\n",
    "from keras.layers import Dense, Dropout, Embedding, LSTM, Input, merge, GRU\n",
    "from keras.utils import np_utils, generic_utils"
   ]
  },
  {
   "cell_type": "code",
   "execution_count": 5,
   "metadata": {
    "collapsed": true
   },
   "outputs": [],
   "source": [
    "# look into preprocessor.py file for details\n",
    "from preprocessor import Tensor_Sequence, accuracy, indicator_to_matrix"
   ]
  },
  {
   "cell_type": "code",
   "execution_count": 6,
   "metadata": {
    "collapsed": false
   },
   "outputs": [],
   "source": [
    "yelp_data = Tensor_Sequence(\"yelp_academic_dataset_review.json\", \"text\", \"stars\", 100)"
   ]
  },
  {
   "cell_type": "code",
   "execution_count": 7,
   "metadata": {
    "collapsed": false
   },
   "outputs": [],
   "source": [
    "# data split\n",
    "x_train, x_test, y_train, y_test = cross_validation.train_test_split(yelp_data.X_doc_seq,yelp_data.Y_doc_seq,test_size=0.2)\n",
    "\n",
    "# create appropirate matrix (hot encoded) response\n",
    "y_train, y_test = [indicator_to_matrix(x,yelp_data.docs_label_index)  for x in (y_train, y_test)]"
   ]
  },
  {
   "cell_type": "code",
   "execution_count": 16,
   "metadata": {
    "collapsed": false
   },
   "outputs": [],
   "source": [
    "maxlen = yelp_data.maxlen\n",
    "hidden_dim = 128\n",
    "nb_classes = len(yelp_data.docs_label_index)"
   ]
  },
  {
   "cell_type": "code",
   "execution_count": 13,
   "metadata": {
    "collapsed": false
   },
   "outputs": [],
   "source": [
    "#In train.py\n",
    "# separate model specification from compilation for clarity and error tracing\n",
    "sequence = Input(shape=(maxlen,len(yelp_data.docs_vocab)), dtype='float32')\n",
    "forwards = LSTM(hidden_dim,dropout_W=0.1,dropout_U=0.1)(sequence)\n",
    "backwards = LSTM(hidden_dim,dropout_W=0.1,dropout_U=0.1,go_backwards=True)(sequence)\n",
    "merged = merge([forwards, backwards], mode='concat', concat_axis=-1)\n",
    "after_dp = Dropout(0.1)(merged)\n",
    "output = Dense(nb_classes, activation='softmax')(after_dp)\n",
    "model = Model(input=sequence, output=output)"
   ]
  },
  {
   "cell_type": "code",
   "execution_count": 14,
   "metadata": {
    "collapsed": true
   },
   "outputs": [],
   "source": [
    "model.compile('adam', 'categorical_crossentropy')"
   ]
  },
  {
   "cell_type": "code",
   "execution_count": 15,
   "metadata": {
    "collapsed": false,
    "scrolled": true
   },
   "outputs": [
    {
     "name": "stdout",
     "output_type": "stream",
     "text": [
      "Train on 80 samples, validate on 20 samples\n",
      "Epoch 1/10\n",
      "80/80 [==============================] - 5s - loss: 1.6013 - val_loss: 1.5809\n",
      "Epoch 2/10\n",
      "80/80 [==============================] - 3s - loss: 1.5465 - val_loss: 1.5423\n",
      "Epoch 3/10\n",
      "80/80 [==============================] - 3s - loss: 1.4800 - val_loss: 1.4845\n",
      "Epoch 4/10\n",
      "80/80 [==============================] - 3s - loss: 1.4008 - val_loss: 1.4025\n",
      "Epoch 5/10\n",
      "80/80 [==============================] - 3s - loss: 1.2830 - val_loss: 1.3062\n",
      "Epoch 6/10\n",
      "80/80 [==============================] - 3s - loss: 1.1693 - val_loss: 1.2460\n",
      "Epoch 7/10\n",
      "80/80 [==============================] - 3s - loss: 1.1053 - val_loss: 1.2223\n",
      "Epoch 8/10\n",
      "80/80 [==============================] - 3s - loss: 1.0018 - val_loss: 1.2031\n",
      "Epoch 9/10\n",
      "80/80 [==============================] - 3s - loss: 0.8315 - val_loss: 1.2039\n",
      "Epoch 10/10\n",
      "80/80 [==============================] - 3s - loss: 0.6670 - val_loss: 1.1814\n"
     ]
    },
    {
     "data": {
      "text/plain": [
       "<keras.callbacks.History at 0x7f076e347bd0>"
      ]
     },
     "execution_count": 15,
     "metadata": {},
     "output_type": "execute_result"
    }
   ],
   "source": [
    "# model specs\n",
    "batch_size = 32\n",
    "num_epoch = 10\n",
    "\n",
    "# train model\n",
    "model.fit(x_train, y_train,\n",
    "          batch_size=batch_size,\n",
    "          nb_epoch=num_epoch,\n",
    "          validation_data=[x_test, y_test])"
   ]
  },
  {
   "cell_type": "code",
   "execution_count": 69,
   "metadata": {
    "collapsed": true
   },
   "outputs": [],
   "source": [
    "model.save('yelp_lstm_hidden_epocs.h5')"
   ]
  },
  {
   "cell_type": "code",
   "execution_count": null,
   "metadata": {
    "collapsed": true
   },
   "outputs": [],
   "source": [
    "from keras.models import load_model\n",
    "current_model = load_model('yelp_lstm_hidden_epocs.h5')"
   ]
  }
 ],
 "metadata": {
  "anaconda-cloud": {},
  "kernelspec": {
   "display_name": "Python 2",
   "language": "python",
   "name": "python2"
  },
  "language_info": {
   "codemirror_mode": {
    "name": "ipython",
    "version": 2
   },
   "file_extension": ".py",
   "mimetype": "text/x-python",
   "name": "python",
   "nbconvert_exporter": "python",
   "pygments_lexer": "ipython2",
   "version": "2.7.6"
  }
 },
 "nbformat": 4,
 "nbformat_minor": 0
}
